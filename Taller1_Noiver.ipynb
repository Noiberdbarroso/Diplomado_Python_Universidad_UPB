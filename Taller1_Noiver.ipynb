{
 "cells": [
  {
   "cell_type": "code",
   "execution_count": 53,
   "id": "1a7d3167",
   "metadata": {},
   "outputs": [],
   "source": [
    "import random\n",
    "## creamos la clase musica para modelar el algoridmo y poderlo manipular con la programacion orientada a objetos \n",
    "class Musica():\n",
    "    ##creamos 6 lista que contendran las palabras claves que conjugadas en el orden que estan creadas se crean las cansiones de reggeton\n",
    "    \n",
    "    lista1 =[\"Mami \",\"Gata \",\"Zorra \",\"Chica \",\"Bebe \",\"chiquita \"]\n",
    "\n",
    "    lista2=[\"yo quiero \", \"vamos a \", \"yo voy a \", \"yo quiero \", \"yo vengo a \", \"dime tu si quieres \"]\n",
    "\n",
    "    lista3=[\"castigarte \", \"cogerte \",\"encenderte \", \"darte \", \"azotarte \",\"calentarte \"]\n",
    "\n",
    "    lista4=[\"duro \",\"rapido \",\"lento \",\"suave \",\"fuerte \",\"durisimo \"]\n",
    "\n",
    "    lista5=[\"hasta que salga el sol \",\"toda la noche \",\"hasta el amanecer \",\"hata mañana \",\"todo el dia \",\"hasta que me muera \"]\n",
    "\n",
    "    lista6=[\"sin miedo \",\"sin anestecia \",\"en el piso \",\"contra la pared \",\"sin compromiso \" ,\" en el baño \"]\n",
    "\n",
    "    def componer_musica(self):\n",
    "        letra_casion=\"\"\n",
    "        # pedimos al usuario que ingrese el nombre del artista para poder integrarlo a la oracion que queremos componer \n",
    "        nombre_artista=input(\"Porfavor Ingrese El Nombre Del Artista \\n\")\n",
    "\n",
    "        # siclo que se repite 5 veces\n",
    "        for i in range(5):\n",
    "            \n",
    "            if i == 3 :\n",
    "                letra_casion=letra_casion+nombre_artista+self.lista2[random.randint(0,5)]+self.lista3[random.randint(0,5)]+self.lista4[random.randint(0,5)]+self.lista5[random.randint(0,5)]+self.lista6[random.randint(0,5)]\n",
    "            else:\n",
    "            \n",
    "                  letra_casion=letra_casion+self.lista1[random.randint(0,5)]+self.lista2[random.randint(0,5)]+self.lista3[random.randint(0,5)]+self.lista4[random.randint(0,5)]+self.lista5[random.randint(0,5)]+self.lista6[random.randint(0,5)]\n",
    "         \n",
    "            \n",
    "        return letra_casion\n",
    "               \n",
    "         \n",
    "                  \n",
    "        "
   ]
  },
  {
   "cell_type": "code",
   "execution_count": 54,
   "id": "2340a0f2",
   "metadata": {},
   "outputs": [
    {
     "name": "stdout",
     "output_type": "stream",
     "text": [
      "Porfavor Ingrese El Nombre Del Artista \n",
      "noiver\n"
     ]
    },
    {
     "data": {
      "text/plain": [
       "'Mami vamos a cogerte durisimo hasta el amanecer sin miedo Bebe yo quiero cogerte suave toda la noche sin miedo Gata yo voy a calentarte suave hasta que salga el sol sin anestecia noiveryo voy a encenderte lento todo el dia sin anestecia Chica dime tu si quieres azotarte durisimo toda la noche  en el baño '"
      ]
     },
     "execution_count": 54,
     "metadata": {},
     "output_type": "execute_result"
    }
   ],
   "source": [
    "reggueton = Musica()\n",
    "reggueton.componer_musica()"
   ]
  },
  {
   "cell_type": "code",
   "execution_count": null,
   "id": "eb2415f0",
   "metadata": {},
   "outputs": [],
   "source": []
  }
 ],
 "metadata": {
  "kernelspec": {
   "display_name": "Python 3 (ipykernel)",
   "language": "python",
   "name": "python3"
  },
  "language_info": {
   "codemirror_mode": {
    "name": "ipython",
    "version": 3
   },
   "file_extension": ".py",
   "mimetype": "text/x-python",
   "name": "python",
   "nbconvert_exporter": "python",
   "pygments_lexer": "ipython3",
   "version": "3.8.10"
  }
 },
 "nbformat": 4,
 "nbformat_minor": 5
}
